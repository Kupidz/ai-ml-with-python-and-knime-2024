{
 "cells": [
  {
   "cell_type": "markdown",
   "metadata": {},
   "source": [
    "IQ Test Application Documentation\n"
   ]
  },
  {
   "cell_type": "markdown",
   "metadata": {},
   "source": [
    "Overview\n",
    "This Python application creates an adaptive IQ test with a graphical user interface using Tkinter. The test includes different question types (logical, verbal, spatial, and memory) with varying difficulty levels."
   ]
  },
  {
   "cell_type": "code",
   "execution_count": 1,
   "metadata": {},
   "outputs": [],
   "source": [
    "import time\n",
    "import random\n",
    "import tkinter as tk\n",
    "from tkinter import messagebox\n",
    "import json\n",
    "import os\n",
    "from PIL import Image, ImageTk # type: ignore\n",
    "from io import BytesIO\n",
    "import base64\n",
    "import datetime"
   ]
  },
  {
   "cell_type": "markdown",
   "metadata": {},
   "source": [
    "The imports include standard libraries for:\n",
    "\n",
    "Time tracking and randomization\n",
    "GUI creation with Tkinter\n",
    "File handling with JSON\n",
    "Date/time functions\n",
    "Image processing with PIL (Pillow)\n",
    "\n",
    "Note: If using Anaconda, PIL would already be included, but you might add:"
   ]
  },
  {
   "cell_type": "code",
   "execution_count": 2,
   "metadata": {},
   "outputs": [],
   "source": [
    "# With Anaconda, you could use:\n",
    "# conda install pillow\n",
    "# No need for type: ignore since environment typing would be consistent"
   ]
  },
  {
   "cell_type": "markdown",
   "metadata": {},
   "source": [
    "Main Application Class\n"
   ]
  },
  {
   "cell_type": "code",
   "execution_count": 5,
   "metadata": {},
   "outputs": [],
   "source": [
    "class IQTest:\n",
    "    def __init__(self, root):\n",
    "        self.root = root\n",
    "        self.root.title(\"Adaptive IQ Test\")\n",
    "        self.root.geometry(\"800x600\")\n",
    "        self.root.configure(bg=\"#f0f0f0\")\n",
    "        \n",
    "        # Initialize variables\n",
    "        self.current_question = 0\n",
    "        self.total_score = 0\n",
    "        self.difficulty = \"medium\"  # Starting difficulty\n",
    "        self.question_history = []\n",
    "        self.user_data = {\"username\": \"\", \"test_history\": []}\n",
    "        self.start_time = 0\n",
    "        self.question_types = [\"logical\", \"verbal\", \"spatial\", \"memory\"]\n",
    "        self.current_type = None\n",
    "        self.memory_content = None\n",
    "        self.memory_answer = None"
   ]
  },
  {
   "cell_type": "markdown",
   "metadata": {},
   "source": [
    "The constructor initializes:\n",
    "\n",
    "The main window with title and size\n",
    "Test state variables (current question, score, difficulty)\n",
    "User data structure for saving results\n",
    "Question type tracking\n",
    "\n",
    "With Anaconda, you could enhance this by adding logging:"
   ]
  },
  {
   "cell_type": "code",
   "execution_count": 6,
   "metadata": {},
   "outputs": [],
   "source": [
    "# If using Anaconda, you could add:\n",
    "# import logging\n",
    "# logging.basicConfig(level=logging.INFO)\n",
    "# self.logger = logging.getLogger(__name__)\n",
    "# self.logger.info(\"IQ Test initialized\")"
   ]
  },
  {
   "cell_type": "markdown",
   "metadata": {},
   "source": [
    "Question Bank Creation\n",
    "The application defines questions of different types and difficulties:"
   ]
  }
 ],
 "metadata": {
  "kernelspec": {
   "display_name": "Python 3",
   "language": "python",
   "name": "python3"
  },
  "language_info": {
   "codemirror_mode": {
    "name": "ipython",
    "version": 3
   },
   "file_extension": ".py",
   "mimetype": "text/x-python",
   "name": "python",
   "nbconvert_exporter": "python",
   "pygments_lexer": "ipython3",
   "version": "3.13.1"
  }
 },
 "nbformat": 4,
 "nbformat_minor": 2
}
